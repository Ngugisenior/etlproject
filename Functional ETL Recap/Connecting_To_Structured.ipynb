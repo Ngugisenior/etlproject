{
 "cells": [
  {
   "cell_type": "markdown",
   "metadata": {},
   "source": [
    "##### Install Libraries"
   ]
  },
  {
   "cell_type": "code",
   "execution_count": 9,
   "metadata": {},
   "outputs": [
    {
     "name": "stdout",
     "output_type": "stream",
     "text": [
      "Requirement already satisfied: pyodbc in c:\\python312\\lib\\site-packages (5.0.1)\n",
      "Requirement already satisfied: pandas in c:\\python312\\lib\\site-packages (2.1.4)\n",
      "Collecting python-dotenv\n",
      "  Downloading python_dotenv-1.0.0-py3-none-any.whl (19 kB)\n",
      "Requirement already satisfied: numpy<2,>=1.26.0 in c:\\python312\\lib\\site-packages (from pandas) (1.26.2)\n",
      "Requirement already satisfied: python-dateutil>=2.8.2 in c:\\users\\administrator\\appdata\\roaming\\python\\python312\\site-packages (from pandas) (2.8.2)\n",
      "Requirement already satisfied: pytz>=2020.1 in c:\\python312\\lib\\site-packages (from pandas) (2023.3.post1)\n",
      "Requirement already satisfied: tzdata>=2022.1 in c:\\python312\\lib\\site-packages (from pandas) (2023.3)\n",
      "Requirement already satisfied: six>=1.5 in c:\\users\\administrator\\appdata\\roaming\\python\\python312\\site-packages (from python-dateutil>=2.8.2->pandas) (1.16.0)\n",
      "Installing collected packages: python-dotenv\n",
      "Successfully installed python-dotenv-1.0.0\n",
      "Note: you may need to restart the kernel to use updated packages.\n"
     ]
    },
    {
     "name": "stderr",
     "output_type": "stream",
     "text": [
      "  WARNING: The script dotenv.exe is installed in 'c:\\Python312\\Scripts' which is not on PATH.\n",
      "  Consider adding this directory to PATH or, if you prefer to suppress this warning, use --no-warn-script-location.\n",
      "\n",
      "[notice] A new release of pip is available: 23.2.1 -> 23.3.2\n",
      "[notice] To update, run: python.exe -m pip install --upgrade pip\n"
     ]
    }
   ],
   "source": [
    "%pip install pyodbc pandas python-dotenv"
   ]
  },
  {
   "cell_type": "markdown",
   "metadata": {},
   "source": [
    "##### Import Libraries"
   ]
  },
  {
   "cell_type": "code",
   "execution_count": 11,
   "metadata": {},
   "outputs": [],
   "source": [
    "import pyodbc as sql\n",
    "import pandas as pd\n",
    "\n",
    "from dotenv import dotenv_values"
   ]
  },
  {
   "cell_type": "markdown",
   "metadata": {},
   "source": [
    "##### Load config file"
   ]
  },
  {
   "cell_type": "code",
   "execution_count": 23,
   "metadata": {},
   "outputs": [],
   "source": [
    "config = dotenv_values('.env')"
   ]
  },
  {
   "cell_type": "markdown",
   "metadata": {},
   "source": [
    "##### Define a connection String to SQL Server"
   ]
  },
  {
   "cell_type": "code",
   "execution_count": 28,
   "metadata": {},
   "outputs": [],
   "source": [
    "source_db_config = {\n",
    "    'TrustedConnection': 'no',\n",
    "    'driver': '{ODBC Driver 17 for SQL Server}',\n",
    "    'server': config.get('SERVER'),\n",
    "    'database': config.get('DATABASE'),\n",
    "    'autocommit': True,\n",
    "    'UID': config.get('UID'),\n",
    "    'PWD': config.get('PWD')\n",
    "}\n"
   ]
  },
  {
   "cell_type": "markdown",
   "metadata": {},
   "source": [
    "##### Define the Query to be used to call SQL"
   ]
  },
  {
   "cell_type": "code",
   "execution_count": 25,
   "metadata": {},
   "outputs": [],
   "source": [
    "sql_query = '''\n",
    "SELECT * FROM [BikeStores].[sales].[customers]\n",
    "'''"
   ]
  },
  {
   "cell_type": "markdown",
   "metadata": {},
   "source": [
    "##### Set the connection"
   ]
  },
  {
   "cell_type": "code",
   "execution_count": 26,
   "metadata": {},
   "outputs": [],
   "source": [
    "source_con =  sql.connect(**source_db_config)"
   ]
  },
  {
   "cell_type": "markdown",
   "metadata": {},
   "source": [
    "##### Call SQL and load data to DataFrame for storage"
   ]
  },
  {
   "cell_type": "code",
   "execution_count": 27,
   "metadata": {},
   "outputs": [
    {
     "name": "stdout",
     "output_type": "stream",
     "text": [
      "      customer_id  first_name last_name           phone  \\\n",
      "0               1       Debra     Burks            None   \n",
      "1               2       Kasha      Todd            None   \n",
      "2               3      Tameka    Fisher            None   \n",
      "3               4       Daryl    Spence            None   \n",
      "4               5  Charolette      Rice  (916) 381-6003   \n",
      "...           ...         ...       ...             ...   \n",
      "2885         2886      Jamaal  Morrison            None   \n",
      "2886         2887      Cassie     Cline            None   \n",
      "2887         2888      Lezlie      Lamb            None   \n",
      "2888         2889      Ivette     Estes            None   \n",
      "2889         2890       Ester   Acevedo            None   \n",
      "\n",
      "                        email                  street           city state  \\\n",
      "0       debra.burks@yahoo.com       9273 Thorne Ave.    Orchard Park    NY   \n",
      "1        kasha.todd@yahoo.com        910 Vine Street        Campbell    CA   \n",
      "2       tameka.fisher@aol.com   769C Honey Creek St.   Redondo Beach    CA   \n",
      "3        daryl.spence@aol.com         988 Pearl Lane       Uniondale    NY   \n",
      "4     charolette.rice@msn.com          107 River Dr.      Sacramento    CA   \n",
      "...                       ...                     ...            ...   ...   \n",
      "2885  jamaal.morrison@msn.com  796 SE. Nut Swamp St.   Staten Island    NY   \n",
      "2886   cassie.cline@gmail.com    947 Lafayette Drive        Brooklyn    NY   \n",
      "2887    lezlie.lamb@gmail.com  401 Brandywine Street   Central Islip    NY   \n",
      "2888   ivette.estes@gmail.com  88 N. Canterbury Ave.     Canandaigua    NY   \n",
      "2889  ester.acevedo@gmail.com        671 Miles Court     San Lorenzo    CA   \n",
      "\n",
      "     zip_code  \n",
      "0       14127  \n",
      "1       95008  \n",
      "2       90278  \n",
      "3       11553  \n",
      "4       95820  \n",
      "...       ...  \n",
      "2885    10301  \n",
      "2886    11201  \n",
      "2887    11722  \n",
      "2888    14424  \n",
      "2889    94580  \n",
      "\n",
      "[2890 rows x 9 columns]\n"
     ]
    },
    {
     "name": "stderr",
     "output_type": "stream",
     "text": [
      "C:\\Users\\Administrator\\AppData\\Local\\Temp\\2\\ipykernel_14512\\1897588388.py:1: UserWarning: pandas only supports SQLAlchemy connectable (engine/connection) or database string URI or sqlite3 DBAPI2 connection. Other DBAPI2 objects are not tested. Please consider using SQLAlchemy.\n",
      "  df = pd.read_sql(sql_query, source_con)\n"
     ]
    }
   ],
   "source": [
    "df = pd.read_sql(sql_query, source_con)\n",
    "print(df)"
   ]
  },
  {
   "cell_type": "code",
   "execution_count": 29,
   "metadata": {},
   "outputs": [
    {
     "name": "stdout",
     "output_type": "stream",
     "text": [
      "customer_id     int64\n",
      "first_name     object\n",
      "last_name      object\n",
      "phone          object\n",
      "email          object\n",
      "street         object\n",
      "city           object\n",
      "state          object\n",
      "zip_code       object\n",
      "dtype: object\n"
     ]
    }
   ],
   "source": [
    "print(df.dtypes)"
   ]
  },
  {
   "cell_type": "code",
   "execution_count": null,
   "metadata": {},
   "outputs": [],
   "source": []
  }
 ],
 "metadata": {
  "kernelspec": {
   "display_name": "Python 3",
   "language": "python",
   "name": "python3"
  },
  "language_info": {
   "codemirror_mode": {
    "name": "ipython",
    "version": 3
   },
   "file_extension": ".py",
   "mimetype": "text/x-python",
   "name": "python",
   "nbconvert_exporter": "python",
   "pygments_lexer": "ipython3",
   "version": "3.12.1"
  }
 },
 "nbformat": 4,
 "nbformat_minor": 2
}
